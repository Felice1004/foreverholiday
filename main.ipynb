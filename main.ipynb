{
 "cells": [
  {
   "cell_type": "code",
   "execution_count": 72,
   "metadata": {},
   "outputs": [],
   "source": [
    "from selenium import webdriver\n",
    "from selenium.webdriver.common.by import By\n",
    "# print (webdriver.__version__)\n",
    "from bs4 import BeautifulSoup\n",
    "from datetime import datetime\n",
    "'''\n",
    ">>> from bs4 import BeautifulSoup\n",
    ">>> soup = BeautifulSoup(\"<p>Some<b>bad<i>HTML\")\n",
    ">>> print(soup.prettify())\n",
    "'''\n",
    "\n",
    "import pandas as pd\n",
    "import time"
   ]
  },
  {
   "cell_type": "markdown",
   "metadata": {},
   "source": [
    "# 單一國家"
   ]
  },
  {
   "cell_type": "code",
   "execution_count": 3,
   "metadata": {},
   "outputs": [],
   "source": [
    "driver = webdriver.Chrome()"
   ]
  },
  {
   "cell_type": "code",
   "execution_count": 5,
   "metadata": {},
   "outputs": [],
   "source": [
    "# 前往網頁\n",
    "country = 'Japan'\n",
    "this_year = '2024'\n",
    "\n",
    "driver.get(f\"https://www.timeanddate.com/holidays/{str.lower(country)}/{this_year}\") # 更改網址以前往不同網頁"
   ]
  },
  {
   "cell_type": "code",
   "execution_count": 6,
   "metadata": {},
   "outputs": [],
   "source": [
    "page_source = driver.page_source\n",
    "soup = BeautifulSoup(page_source, 'html')\n",
    "holiday_selectors = soup.find_all('table',{\"id\": \"holidays-table\"})\n"
   ]
  },
  {
   "cell_type": "code",
   "execution_count": 7,
   "metadata": {},
   "outputs": [],
   "source": [
    "Country = [] ; Date = []; Name = []; Weekday = []; Type = []"
   ]
  },
  {
   "cell_type": "code",
   "execution_count": 26,
   "metadata": {},
   "outputs": [],
   "source": [
    "for holiday_selector in holiday_selectors:\n",
    "    holiday_rows = holiday_selector.find_all('tr')\n",
    "    for row in holiday_rows:\n",
    "        dates = row.find_all('th')\n",
    "        for date in dates:\n",
    "            if date.get_text() not in ['Date','Name','Type'] and len(date.get_text())>1:\n",
    "                Date.append(date.get_text())\n",
    "       \n",
    "        holidays = row.find_all('td');  \n",
    "        i = 0\n",
    "\n",
    "        for other_info in holidays:\n",
    "            info = other_info.get_text()\n",
    "            if len(info) <= 0:\n",
    "                info = \"#ERROR\"\n",
    "            match i:\n",
    "                case 0:\n",
    "                    Weekday.append(info)\n",
    "                    pass\n",
    "                case 1:\n",
    "                    Name.append(info)\n",
    "                    pass\n",
    "                case 2: \n",
    "                    Type.append(info)\n",
    "                    pass\n",
    "                case _:\n",
    "                    Country.append(country)\n",
    "            i+=1\n"
   ]
  },
  {
   "cell_type": "code",
   "execution_count": 12,
   "metadata": {},
   "outputs": [],
   "source": [
    "data = {'Country':country, 'Date':Date, 'Weekday':Weekday, 'Name':Name, 'Type':Type}\n",
    "holiday_list = pd.DataFrame(data)\n",
    "holiday_list = holiday_list[holiday_list['Type'].str.contains('holiday', case=False)]\n",
    "holiday_list.to_csv(f'output/{country}_holiday_{this_year}.csv', index=False)"
   ]
  },
  {
   "cell_type": "markdown",
   "metadata": {},
   "source": [
    "# 連續爬多個國家"
   ]
  },
  {
   "cell_type": "code",
   "execution_count": 79,
   "metadata": {},
   "outputs": [],
   "source": [
    "this_year = '2024'\n",
    "\n",
    "data = pd.read_csv('country.csv')\n",
    "countries = data['country'].tolist()\n",
    "\n",
    "Country = [] ; Date = []; Name = []; Weekday = []; Type = []"
   ]
  },
  {
   "cell_type": "code",
   "execution_count": null,
   "metadata": {},
   "outputs": [],
   "source": [
    "driver = webdriver.Chrome()"
   ]
  },
  {
   "cell_type": "code",
   "execution_count": 80,
   "metadata": {},
   "outputs": [
    {
     "name": "stdout",
     "output_type": "stream",
     "text": [
      "australia\n",
      "taiwan\n",
      "japan\n",
      "south-korea\n",
      "vietnam\n",
      "indonesia\n",
      "thailand\n",
      "new-zealand\n",
      "philippines\n",
      "malaysia\n",
      "singapore\n",
      "hong-kong\n",
      "us\n"
     ]
    }
   ],
   "source": [
    "for country in countries:\n",
    "    print(country)\n",
    "    driver.get(f\"https://www.timeanddate.com/holidays/{str.lower(country)}/{this_year}\") # 更改網址以前往不同網頁\n",
    "    time.sleep(0.25)\n",
    "    \n",
    "    page_source = driver.page_source\n",
    "    soup = BeautifulSoup(page_source, 'html')\n",
    "    holiday_selectors = soup.find_all('table',{\"id\": \"holidays-table\"})\n",
    "\n",
    "    date_exist = False\n",
    "\n",
    "    for holiday_selector in holiday_selectors:\n",
    "        holiday_rows = holiday_selector.find_all('tr')\n",
    "        for row in holiday_rows:\n",
    "            dates = row.find_all('th')\n",
    "            for date in dates:\n",
    "                if date.get_text() not in ['Date','Name','Type'] and len(date.get_text())>1:\n",
    "                    date_str = date.get_text()\n",
    "\n",
    "                    date_str = f\"{date_str} {this_year}\"\n",
    "                    try:\n",
    "                        date_object = datetime.strptime(date_str, \"%d %b %Y\")\n",
    "                        formatted_date = date_object.strftime(\"%d/%m/%Y\")\n",
    "\n",
    "                        Date.append(formatted_date)\n",
    "                        Country.append(country)\n",
    "                    except:\n",
    "                        continue\n",
    "\n",
    "                    holiday_other_infos = row.find_all('td');  \n",
    "                    if len(holiday_other_infos) > 1:\n",
    "                        \n",
    "                        i = 0\n",
    "                        for other_info in holiday_other_infos:\n",
    "                            info = other_info.get_text()\n",
    "                            if len(info) <= 0:\n",
    "                                info = \"#ERROR\"\n",
    "                            match i:\n",
    "                                case 0:\n",
    "                                    Weekday.append(info)\n",
    "                                    pass\n",
    "                                case 1:\n",
    "                                    Name.append(info)\n",
    "                                    pass\n",
    "                                case 2: \n",
    "                                    Type.append(info)\n",
    "                                    pass\n",
    "                            i+=1\n",
    "                    else:\n",
    "                        Weekday.append('#ERROR')\n",
    "                        Name.append('#ERROR')\n",
    "                        Type.append('#ERROR')\n",
    "\n",
    "                \n",
    "data = {'Country':Country, 'Date':Date, 'Weekday':Weekday, 'Name':Name, 'Type':Type}\n",
    "holiday_list = pd.DataFrame(data)\n",
    "holiday_list = holiday_list[holiday_list['Type'].str.contains('holiday', case=False)]\n",
    "holiday_list.to_csv(f'output/holiday_{this_year}.csv', index=False)\n",
    "\n"
   ]
  },
  {
   "cell_type": "code",
   "execution_count": 71,
   "metadata": {},
   "outputs": [
    {
     "name": "stdout",
     "output_type": "stream",
     "text": [
      "Jan 01, 2023\n"
     ]
    }
   ],
   "source": [
    "from datetime import datetime\n",
    "\n",
    "# 定義日期字符\n",
    "date_str = \"1 Jan\"\n",
    "current_year = datetime.now().year\n",
    "\n",
    "\n",
    "date_str = f\"{date_str} {current_year}\"\n",
    "date_object = datetime.strptime(date_str, \"%d %b %Y\")\n",
    "\n",
    "# 将日期格式化為 \"Sep 13, 2023\" \n",
    "formatted_date = date_object.strftime(\"%b %d, %Y\")\n",
    "\n",
    "\n",
    "print(formatted_date)\n"
   ]
  },
  {
   "cell_type": "code",
   "execution_count": 65,
   "metadata": {},
   "outputs": [
    {
     "data": {
      "text/plain": [
       "'us'"
      ]
     },
     "execution_count": 65,
     "metadata": {},
     "output_type": "execute_result"
    }
   ],
   "source": [
    "country"
   ]
  },
  {
   "cell_type": "code",
   "execution_count": 24,
   "metadata": {},
   "outputs": [
    {
     "data": {
      "text/plain": [
       "324"
      ]
     },
     "execution_count": 24,
     "metadata": {},
     "output_type": "execute_result"
    }
   ],
   "source": [
    "len(Type)"
   ]
  }
 ],
 "metadata": {
  "kernelspec": {
   "display_name": "klook-ml",
   "language": "python",
   "name": "python3"
  },
  "language_info": {
   "codemirror_mode": {
    "name": "ipython",
    "version": 3
   },
   "file_extension": ".py",
   "mimetype": "text/x-python",
   "name": "python",
   "nbconvert_exporter": "python",
   "pygments_lexer": "ipython3",
   "version": "3.11.5"
  },
  "orig_nbformat": 4
 },
 "nbformat": 4,
 "nbformat_minor": 2
}
